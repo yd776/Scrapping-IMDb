{
  "nbformat": 4,
  "nbformat_minor": 0,
  "metadata": {
    "colab": {
      "provenance": [],
      "authorship_tag": "ABX9TyOwySsWJ/N2mVBxEyfbNhuE",
      "include_colab_link": true
    },
    "kernelspec": {
      "name": "python3",
      "display_name": "Python 3"
    },
    "language_info": {
      "name": "python"
    }
  },
  "cells": [
    {
      "cell_type": "markdown",
      "metadata": {
        "id": "view-in-github",
        "colab_type": "text"
      },
      "source": [
        "<a href=\"https://colab.research.google.com/github/yd776/Scrapping-IMDb/blob/main/IMDB_scrapping.ipynb\" target=\"_parent\"><img src=\"https://colab.research.google.com/assets/colab-badge.svg\" alt=\"Open In Colab\"/></a>"
      ]
    },
    {
      "cell_type": "code",
      "execution_count": 54,
      "metadata": {
        "id": "YhH0u9e06Okl"
      },
      "outputs": [],
      "source": [
        "from bs4 import BeautifulSoup as bs\n",
        "import requests\n",
        "import pandas as pd"
      ]
    },
    {
      "cell_type": "code",
      "source": [
        "r=requests.get(\"https://www.imdb.com/chart/top/\")\n",
        "soup=bs(r.content)\n",
        "contents=soup.prettify()\n",
        "print(contents[:100])\n",
        "\n"
      ],
      "metadata": {
        "colab": {
          "base_uri": "https://localhost:8080/"
        },
        "id": "Xh3ADZCV6slm",
        "outputId": "c508c087-62f9-4375-8f37-6346dc55f243"
      },
      "execution_count": 55,
      "outputs": [
        {
          "output_type": "stream",
          "name": "stdout",
          "text": [
            "<!DOCTYPE html>\n",
            "<html xmlns:fb=\"http://www.facebook.com/2008/fbml\" xmlns:og=\"http://ogp.me/ns#\">\n",
            " <h\n"
          ]
        }
      ]
    },
    {
      "cell_type": "code",
      "source": [
        "\n"
      ],
      "metadata": {
        "id": "8SFVvWMapsHu"
      },
      "execution_count": 55,
      "outputs": []
    },
    {
      "cell_type": "code",
      "source": [
        "movie_title=[]\n",
        "movie_year=[]\n",
        "movie_rating=[]"
      ],
      "metadata": {
        "id": "8E1pl2nVol6L"
      },
      "execution_count": 56,
      "outputs": []
    },
    {
      "cell_type": "code",
      "source": [
        "imdb_table=soup.find(class_=\"chart full-width\")"
      ],
      "metadata": {
        "id": "u7yv83QhLHyq"
      },
      "execution_count": 57,
      "outputs": []
    },
    {
      "cell_type": "code",
      "source": [
        "movie_titlecolumn=imdb_table.find_all(class_=\"titleColumn\")"
      ],
      "metadata": {
        "id": "jWmaRN6dLKGn"
      },
      "execution_count": 58,
      "outputs": []
    },
    {
      "cell_type": "code",
      "source": [
        "movie_rating_column=imdb_table.find_all(class_=\"ratingColumn imdbRating\")"
      ],
      "metadata": {
        "id": "6Y6kI2QmLPtH"
      },
      "execution_count": 59,
      "outputs": []
    },
    {
      "cell_type": "code",
      "source": [
        "\n",
        "for row in movie_titlecolumn:\n",
        "  title=row.a.text\n",
        "  movie_title.append(title)\n",
        "  year=row.span.text\n",
        "  movie_year.append(year)\n",
        " \n",
        "\n",
        "print(movie_title)\n",
        "\n"
      ],
      "metadata": {
        "colab": {
          "base_uri": "https://localhost:8080/"
        },
        "id": "QcbDmHkCLRJp",
        "outputId": "7ee37d23-7486-4333-81ca-b466657e6eb5"
      },
      "execution_count": 60,
      "outputs": [
        {
          "output_type": "stream",
          "name": "stdout",
          "text": [
            "['The Shawshank Redemption', 'The Godfather', 'The Dark Knight', 'The Godfather Part II', '12 Angry Men', \"Schindler's List\", 'The Lord of the Rings: The Return of the King', 'Pulp Fiction', 'The Lord of the Rings: The Fellowship of the Ring', 'The Good, the Bad and the Ugly', 'Forrest Gump', 'Fight Club', 'Inception', 'The Lord of the Rings: The Two Towers', 'Star Wars: Episode V - The Empire Strikes Back', 'The Matrix', 'Goodfellas', \"One Flew Over the Cuckoo's Nest\", 'Se7en', 'Seven Samurai', \"It's a Wonderful Life\", 'The Silence of the Lambs', 'City of God', 'Saving Private Ryan', 'Life Is Beautiful', 'Interstellar', 'The Green Mile', 'Star Wars', 'Terminator 2: Judgment Day', 'Back to the Future', 'Spirited Away', 'Psycho', 'The Pianist', 'Parasite', 'Léon: The Professional', 'The Lion King', 'Gladiator', 'American History X', 'The Departed', 'The Usual Suspects', 'The Prestige', 'Whiplash', 'Casablanca', 'The Intouchables', 'Harakiri', 'Grave of the Fireflies', 'Modern Times', 'Once Upon a Time in the West', 'Rear Window', 'Alien', 'City Lights', 'Cinema Paradiso', 'Apocalypse Now', 'Memento', 'Raiders of the Lost Ark', 'Django Unchained', 'WALL·E', 'The Lives of Others', 'Sunset Blvd.', 'Paths of Glory', 'The Shining', 'The Great Dictator', 'Avengers: Infinity War', 'Witness for the Prosecution', 'Aliens', 'American Beauty', 'Spider-Man: Into the Spider-Verse', 'Dr. Strangelove or: How I Learned to Stop Worrying and Love the Bomb', 'The Dark Knight Rises', 'Oldboy', 'Joker', 'Amadeus', 'Inglourious Basterds', 'Coco', 'Toy Story', 'Braveheart', 'The Boat', 'Avengers: Endgame', 'Princess Mononoke', 'Top Gun: Maverick', 'Once Upon a Time in America', 'Good Will Hunting', 'Your Name.', 'Requiem for a Dream', 'Toy Story 3', \"Singin' in the Rain\", '3 Idiots', 'High and Low', 'Star Wars: Episode VI - Return of the Jedi', '2001: A Space Odyssey', 'Eternal Sunshine of the Spotless Mind', 'Capernaum', 'Reservoir Dogs', 'The Hunt', 'Citizen Kane', 'Lawrence of Arabia', 'M', 'Come and See', 'North by Northwest', 'Vertigo', 'Amélie', 'A Clockwork Orange', 'The Apartment', 'Double Indemnity', 'Full Metal Jacket', 'Ikiru', 'Scarface', 'Hamilton', 'The Sting', 'To Kill a Mockingbird', 'Heat', 'Up', 'Incendies', 'Taxi Driver', 'Metropolis', 'A Separation', 'L.A. Confidential', 'Snatch', 'Die Hard', 'Bicycle Thieves', 'Indiana Jones and the Last Crusade', '1917', 'Like Stars on Earth', 'Downfall', 'For a Few Dollars More', 'Batman Begins', 'Dangal', 'The Kid', 'Some Like It Hot', 'The Father', 'All About Eve', 'Green Book', 'The Wolf of Wall Street', 'Judgment at Nuremberg', 'Ran', 'Casino', \"Pan's Labyrinth\", 'Unforgiven', 'There Will Be Blood', 'The Truman Show', 'Spider-Man: No Way Home', 'The Sixth Sense', 'A Beautiful Mind', 'Yojimbo', 'Monty Python and the Holy Grail', 'Shutter Island', 'The Treasure of the Sierra Madre', 'Jurassic Park', 'Rashomon', 'The Great Escape', 'Kill Bill: Vol. 1', 'No Country for Old Men', 'Finding Nemo', 'The Thing', 'The Elephant Man', 'Chinatown', 'Raging Bull', 'Gone with the Wind', 'V for Vendetta', 'Inside Out', 'Lock, Stock and Two Smoking Barrels', 'Dial M for Murder', 'The Secret in Their Eyes', \"Howl's Moving Castle\", 'The Bridge on the River Kwai', 'Three Billboards Outside Ebbing, Missouri', 'Trainspotting', 'Warrior', 'Gran Torino', 'Fargo', 'Prisoners', 'My Neighbor Totoro', 'Million Dollar Baby', 'Catch Me If You Can', 'The Gold Rush', 'Children of Heaven', 'Blade Runner', 'On the Waterfront', '12 Years a Slave', 'Before Sunrise', 'The Third Man', 'Wild Strawberries', 'Harry Potter and the Deathly Hallows: Part 2', 'Ben-Hur', 'The General', 'Gone Girl', 'The Deer Hunter', 'The Grand Budapest Hotel', 'In the Name of the Father', 'Barry Lyndon', 'The Wages of Fear', 'Sherlock Jr.', 'Mr. Smith Goes to Washington', 'Hacksaw Ridge', 'Klaus', 'Memories of Murder', 'Wild Tales', 'The Seventh Seal', 'Room', 'Mad Max: Fury Road', 'Mary and Max', 'How to Train Your Dragon', 'The Big Lebowski', 'Monsters, Inc.', 'Jaws', 'Tokyo Story', 'The Passion of Joan of Arc', 'Dead Poets Society', 'Hotel Rwanda', 'Ford v Ferrari', 'Rocky', 'Platoon', 'Stand by Me', 'The Terminator', 'Pather Panchali', 'Spotlight', 'Logan', 'Rush', 'Ratatouille', 'Network', 'Into the Wild', 'The Wizard of Oz', 'Everything Everywhere All at Once', 'Before Sunset', 'Groundhog Day', 'The Exorcist', 'Jai Bhim', 'The Best Years of Our Lives', 'The Incredibles', 'To Be or Not to Be', 'The Battle of Algiers', \"Hachi: A Dog's Tale\", 'The Grapes of Wrath', 'Rebecca', 'Pirates of the Caribbean: The Curse of the Black Pearl', 'Amores perros', 'My Father and My Son', 'La haine', 'Cool Hand Luke', 'The 400 Blows', 'Persona', 'The Handmaiden', 'It Happened One Night', 'The Sound of Music', 'Life of Brian', 'Dersu Uzala', 'The Help', 'Gandhi', 'Aladdin', 'The Iron Giant']\n"
          ]
        }
      ]
    },
    {
      "cell_type": "code",
      "source": [
        "\n",
        "\n",
        "\n",
        "\n",
        "\n",
        "for i  in movie_rating_column:\n",
        "  rating=i.strong.text\n",
        "  movie_rating.append(rating)\n",
        "print(movie_rating)\n",
        "print(movie_year)\n",
        "\n",
        "\n",
        "\n",
        "  \n",
        "  \n",
        " "
      ],
      "metadata": {
        "colab": {
          "base_uri": "https://localhost:8080/"
        },
        "id": "I-o-j5DPpakc",
        "outputId": "8487c88a-ad95-4a96-9766-0d597ea7e5d7"
      },
      "execution_count": 61,
      "outputs": [
        {
          "output_type": "stream",
          "name": "stdout",
          "text": [
            "['9.2', '9.2', '9.0', '9.0', '9.0', '8.9', '8.9', '8.8', '8.8', '8.8', '8.8', '8.7', '8.7', '8.7', '8.7', '8.7', '8.7', '8.6', '8.6', '8.6', '8.6', '8.6', '8.6', '8.6', '8.6', '8.6', '8.6', '8.6', '8.5', '8.5', '8.5', '8.5', '8.5', '8.5', '8.5', '8.5', '8.5', '8.5', '8.5', '8.5', '8.5', '8.5', '8.5', '8.5', '8.5', '8.5', '8.4', '8.4', '8.4', '8.4', '8.4', '8.4', '8.4', '8.4', '8.4', '8.4', '8.4', '8.4', '8.4', '8.4', '8.4', '8.4', '8.4', '8.4', '8.3', '8.3', '8.3', '8.3', '8.3', '8.3', '8.3', '8.3', '8.3', '8.3', '8.3', '8.3', '8.3', '8.3', '8.3', '8.3', '8.3', '8.3', '8.3', '8.3', '8.3', '8.3', '8.3', '8.3', '8.3', '8.3', '8.3', '8.3', '8.3', '8.3', '8.3', '8.3', '8.3', '8.3', '8.2', '8.2', '8.2', '8.2', '8.2', '8.2', '8.2', '8.2', '8.2', '8.2', '8.2', '8.2', '8.2', '8.2', '8.2', '8.2', '8.2', '8.2', '8.2', '8.2', '8.2', '8.2', '8.2', '8.2', '8.2', '8.2', '8.2', '8.2', '8.2', '8.2', '8.2', '8.2', '8.2', '8.2', '8.2', '8.2', '8.2', '8.2', '8.2', '8.2', '8.2', '8.2', '8.2', '8.2', '8.2', '8.1', '8.1', '8.1', '8.1', '8.1', '8.1', '8.1', '8.1', '8.1', '8.1', '8.1', '8.1', '8.1', '8.1', '8.1', '8.1', '8.1', '8.1', '8.1', '8.1', '8.1', '8.1', '8.1', '8.1', '8.1', '8.1', '8.1', '8.1', '8.1', '8.1', '8.1', '8.1', '8.1', '8.1', '8.1', '8.1', '8.1', '8.1', '8.1', '8.1', '8.1', '8.1', '8.1', '8.1', '8.1', '8.1', '8.1', '8.1', '8.1', '8.1', '8.1', '8.1', '8.1', '8.1', '8.1', '8.1', '8.1', '8.1', '8.1', '8.1', '8.1', '8.1', '8.1', '8.1', '8.1', '8.1', '8.0', '8.0', '8.0', '8.0', '8.0', '8.0', '8.0', '8.0', '8.0', '8.0', '8.0', '8.0', '8.0', '8.0', '8.0', '8.0', '8.0', '8.0', '8.0', '8.0', '8.0', '8.0', '8.0', '8.0', '8.0', '8.0', '8.0', '8.0', '8.0', '8.0', '8.0', '8.0', '8.0', '8.0', '8.0', '8.0', '8.0', '8.0', '8.0', '8.0', '8.0']\n",
            "['(1994)', '(1972)', '(2008)', '(1974)', '(1957)', '(1993)', '(2003)', '(1994)', '(2001)', '(1966)', '(1994)', '(1999)', '(2010)', '(2002)', '(1980)', '(1999)', '(1990)', '(1975)', '(1995)', '(1954)', '(1946)', '(1991)', '(2002)', '(1998)', '(1997)', '(2014)', '(1999)', '(1977)', '(1991)', '(1985)', '(2001)', '(1960)', '(2002)', '(2019)', '(1994)', '(1994)', '(2000)', '(1998)', '(2006)', '(1995)', '(2006)', '(2014)', '(1942)', '(2011)', '(1962)', '(1988)', '(1936)', '(1968)', '(1954)', '(1979)', '(1931)', '(1988)', '(1979)', '(2000)', '(1981)', '(2012)', '(2008)', '(2006)', '(1950)', '(1957)', '(1980)', '(1940)', '(2018)', '(1957)', '(1986)', '(1999)', '(2018)', '(1964)', '(2012)', '(2003)', '(2019)', '(1984)', '(2009)', '(2017)', '(1995)', '(1995)', '(1981)', '(2019)', '(1997)', '(2022)', '(1984)', '(1997)', '(2016)', '(2000)', '(2010)', '(1952)', '(2009)', '(1963)', '(1983)', '(1968)', '(2004)', '(2018)', '(1992)', '(2012)', '(1941)', '(1962)', '(1931)', '(1985)', '(1959)', '(1958)', '(2001)', '(1971)', '(1960)', '(1944)', '(1987)', '(1952)', '(1983)', '(2020)', '(1973)', '(1962)', '(1995)', '(2009)', '(2010)', '(1976)', '(1927)', '(2011)', '(1997)', '(2000)', '(1988)', '(1948)', '(1989)', '(2019)', '(2007)', '(2004)', '(1965)', '(2005)', '(2016)', '(1921)', '(1959)', '(2020)', '(1950)', '(2018)', '(2013)', '(1961)', '(1985)', '(1995)', '(2006)', '(1992)', '(2007)', '(1998)', '(2021)', '(1999)', '(2001)', '(1961)', '(1975)', '(2010)', '(1948)', '(1993)', '(1950)', '(1963)', '(2003)', '(2007)', '(2003)', '(1982)', '(1980)', '(1974)', '(1980)', '(1939)', '(2005)', '(2015)', '(1998)', '(1954)', '(2009)', '(2004)', '(1957)', '(2017)', '(1996)', '(2011)', '(2008)', '(1996)', '(2013)', '(1988)', '(2004)', '(2002)', '(1925)', '(1997)', '(1982)', '(1954)', '(2013)', '(1995)', '(1949)', '(1957)', '(2011)', '(1959)', '(1926)', '(2014)', '(1978)', '(2014)', '(1993)', '(1975)', '(1953)', '(1924)', '(1939)', '(2016)', '(2019)', '(2003)', '(2014)', '(1957)', '(2015)', '(2015)', '(2009)', '(2010)', '(1998)', '(2001)', '(1975)', '(1953)', '(1928)', '(1989)', '(2004)', '(2019)', '(1976)', '(1986)', '(1986)', '(1984)', '(1955)', '(2015)', '(2017)', '(2013)', '(2007)', '(1976)', '(2007)', '(1939)', '(2022)', '(2004)', '(1993)', '(1973)', '(2021)', '(1946)', '(2004)', '(1942)', '(1966)', '(2009)', '(1940)', '(1940)', '(2003)', '(2000)', '(2005)', '(1995)', '(1967)', '(1959)', '(1966)', '(2016)', '(1934)', '(1965)', '(1979)', '(1975)', '(2011)', '(1982)', '(1992)', '(1999)']\n"
          ]
        }
      ]
    },
    {
      "cell_type": "code",
      "source": [
        "print(len(movie_year))\n",
        "print(len(movie_title))\n",
        "print(len(movie_rating))"
      ],
      "metadata": {
        "colab": {
          "base_uri": "https://localhost:8080/"
        },
        "id": "-Bry7t6nKU41",
        "outputId": "6a19c9a3-e188-43e0-b260-c7e17543d3e9"
      },
      "execution_count": 62,
      "outputs": [
        {
          "output_type": "stream",
          "name": "stdout",
          "text": [
            "250\n",
            "250\n",
            "250\n"
          ]
        }
      ]
    },
    {
      "cell_type": "code",
      "source": [
        "movie_df=pd.DataFrame({\"Movie Title\":movie_title,\"Year of Release\":movie_year,\"IMDb Rating\":movie_rating})\n",
        "print(movie_df)"
      ],
      "metadata": {
        "colab": {
          "base_uri": "https://localhost:8080/"
        },
        "id": "FV5Crh36JvRB",
        "outputId": "da3fcde4-a71e-413b-eeeb-9af4b16524ba"
      },
      "execution_count": 63,
      "outputs": [
        {
          "output_type": "stream",
          "name": "stdout",
          "text": [
            "                  Movie Title Year of Release IMDb Rating\n",
            "0    The Shawshank Redemption          (1994)         9.2\n",
            "1               The Godfather          (1972)         9.2\n",
            "2             The Dark Knight          (2008)         9.0\n",
            "3       The Godfather Part II          (1974)         9.0\n",
            "4                12 Angry Men          (1957)         9.0\n",
            "..                        ...             ...         ...\n",
            "245               Dersu Uzala          (1975)         8.0\n",
            "246                  The Help          (2011)         8.0\n",
            "247                    Gandhi          (1982)         8.0\n",
            "248                   Aladdin          (1992)         8.0\n",
            "249            The Iron Giant          (1999)         8.0\n",
            "\n",
            "[250 rows x 3 columns]\n"
          ]
        }
      ]
    }
  ]
}